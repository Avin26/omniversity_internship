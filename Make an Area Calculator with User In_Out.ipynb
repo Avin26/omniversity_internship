{
 "cells": [
  {
   "cell_type": "markdown",
   "id": "df105670",
   "metadata": {},
   "source": [
    "Time to play with Python strings & console input/output by modifying the above calculator with user input and showing the output in the console. Also, apply python conditional statements by making an area calculator for the following objects: 1) Circles (will use math library) 2) Rectangles 3) Triangle Submission Requirements: 1) Python Source Code (such as .ipynb file in JuPyter notebook) 2) Screenshot: 4 examples showing different mathematical operations. They should use console I/O"
   ]
  },
  {
   "cell_type": "code",
   "execution_count": 8,
   "id": "8e69c148",
   "metadata": {},
   "outputs": [
    {
     "name": "stdout",
     "output_type": "stream",
     "text": [
      "Enter the shape of which area to be calculated: 1. Circle 2.Rectangle 3.Triangle3\n",
      "Enter the height  of the rectangle4\n",
      "Enter the breadth of the rectangle5\n",
      "Area of the triangle is = 10.0  sq units\n"
     ]
    }
   ],
   "source": [
    "# To calc the area of the circle, rectangle or triagle\n",
    "\n",
    "\n",
    "import math\n",
    "\n",
    "\n",
    "def circle_area(r):\n",
    "    return math.pi*r*r\n",
    "\n",
    "def rectangle_area(l,b):\n",
    "    return l*b\n",
    "\n",
    "def triangle_area(h,b):\n",
    "    return 0.5*h*b\n",
    "\n",
    "\n",
    "choice = input(\"Enter the shape of which area to be calculated: 1. Circle 2.Rectangle 3.Triangle\")\n",
    "\n",
    "if choice == '1':\n",
    "    r = int(input(\"Enter the radius of the circle\"))\n",
    "    print(\"Area of the circle is\",\"=\", circle_area(r), \" sq units\")\n",
    "elif choice == '2':\n",
    "    l= int(input(\"Enter the length  of the rectangle\"))\n",
    "    b = int(input(\"Enter the breadth of the rectangle\"))\n",
    "    print(\"Area of the rectangle is\",\"=\", rectangle_area(l,b), \" sq units\")\n",
    "    print(ar1,\"-\",ar2,\"=\", subtract(ar1,ar2))\n",
    "elif choice == '3':\n",
    "    h= int(input(\"Enter the height  of the rectangle\"))\n",
    "    b = int(input(\"Enter the breadth of the rectangle\"))\n",
    "    print(\"Area of the triangle is\",\"=\", triangle_area(h,b), \" sq units\")\n",
    "else:\n",
    "    print(\"Input invalid\")"
   ]
  }
 ],
 "metadata": {
  "kernelspec": {
   "display_name": "Python 3 (ipykernel)",
   "language": "python",
   "name": "python3"
  },
  "language_info": {
   "codemirror_mode": {
    "name": "ipython",
    "version": 3
   },
   "file_extension": ".py",
   "mimetype": "text/x-python",
   "name": "python",
   "nbconvert_exporter": "python",
   "pygments_lexer": "ipython3",
   "version": "3.9.7"
  }
 },
 "nbformat": 4,
 "nbformat_minor": 5
}
