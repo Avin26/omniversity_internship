{
 "cells": [
  {
   "cell_type": "code",
   "execution_count": 1,
   "id": "42496a5e",
   "metadata": {},
   "outputs": [
    {
     "name": "stdout",
     "output_type": "stream",
     "text": [
      "Enter the no of elements in the Numpy array 3\n",
      "Enter the element in Ist array 1\n",
      "Enter the element in Ist array 2\n",
      "Enter the element in Ist array 2\n",
      "[1 2 2]\n",
      "Enter the element in 2nd array 7\n",
      "Enter the element in 2nd array 7\n",
      "Enter the element in 2nd array 7\n",
      "[7 7 7]\n",
      "1. Addittion\n",
      "2. Subtraction\n",
      "3. Multiplication\n",
      "4. Division\n",
      "Enter the operation (1/2/3/4)3\n",
      "[1 2 2] * [7 7 7] = [ 7 14 14]\n"
     ]
    }
   ],
   "source": [
    "import numpy as np\n",
    "\n",
    "def add(x, y): # add\n",
    "   return x + y\n",
    "def subtract(x, y): # subtract\n",
    "   return x - y\n",
    "def multiply(x, y): # multiply\n",
    "   return x * y\n",
    "def divide(x, y): # divide\n",
    "   return x / y\n",
    "\n",
    "\n",
    "\n",
    "size = int(input(\"Enter the no of elements in the Numpy array \"))\n",
    "ar1 = np.zeros(size,dtype=int)\n",
    "ar2 = np.zeros(size,dtype=int)\n",
    "u = len(ar1)\n",
    "i=0\n",
    "j=0\n",
    "\n",
    "while i < u :\n",
    "    x = int(input(\"Enter the element in Ist array \"))\n",
    "    ar1[i] = x\n",
    "    i+=1\n",
    "\n",
    "print(ar1)\n",
    "i=0\n",
    "j=0\n",
    "while i < u :\n",
    "    x2 = int(input(\"Enter the element in 2nd array \"))\n",
    "    ar2[i] = x2\n",
    "    i+=1\n",
    "\n",
    "print(ar2)\n",
    "\n",
    "\n",
    "print(\"1. Addittion\")\n",
    "print(\"2. Subtraction\")\n",
    "print(\"3. Multiplication\")\n",
    "print(\"4. Division\")\n",
    "choice = input(\"Enter the operation (1/2/3/4)\")\n",
    "\n",
    "if choice == '1':\n",
    "   print(ar1,\"+\",ar2,\"=\", add(ar1,ar2))\n",
    "elif choice == '2':\n",
    "   print(ar1,\"-\",ar2,\"=\", subtract(ar1,ar2))\n",
    "elif choice == '3':\n",
    "   print(ar1,\"*\",ar2,\"=\", multiply(ar1,ar2))\n",
    "elif choice == '4':\n",
    "   print(ar1,\"/\",ar2,\"=\", divide(ar1,ar2))\n",
    "else:\n",
    "    print(\"Input invalid\")"
   ]
  }
 ],
 "metadata": {
  "kernelspec": {
   "display_name": "Python 3 (ipykernel)",
   "language": "python",
   "name": "python3"
  },
  "language_info": {
   "codemirror_mode": {
    "name": "ipython",
    "version": 3
   },
   "file_extension": ".py",
   "mimetype": "text/x-python",
   "name": "python",
   "nbconvert_exporter": "python",
   "pygments_lexer": "ipython3",
   "version": "3.9.7"
  }
 },
 "nbformat": 4,
 "nbformat_minor": 5
}
